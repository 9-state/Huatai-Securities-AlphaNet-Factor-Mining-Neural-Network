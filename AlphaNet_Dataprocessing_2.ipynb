{
 "cells": [
  {
   "cell_type": "code",
   "execution_count": 1,
   "id": "4ed6cf50",
   "metadata": {},
   "outputs": [],
   "source": [
    "import os\n",
    "import numpy as np\n",
    "import pandas as pd\n",
    "from tqdm import tqdm\n",
    "\n",
    "import seaborn as sns\n",
    "import matplotlib.pyplot as plt\n",
    "from concurrent.futures import ThreadPoolExecutor"
   ]
  },
  {
   "cell_type": "code",
   "execution_count": 2,
   "id": "db804f01",
   "metadata": {},
   "outputs": [],
   "source": [
    "input_folder = r\"D:\\AShare_2\"\n",
    "csv_files = [f for f in os.listdir(input_folder) if f.endswith(\".csv\")]"
   ]
  },
  {
   "cell_type": "code",
   "execution_count": 3,
   "id": "825cb56f",
   "metadata": {},
   "outputs": [],
   "source": [
    "features = ['return1','open','close','high','low','volume','VWAP','turn','free_turn']"
   ]
  },
  {
   "cell_type": "code",
   "execution_count": 4,
   "id": "d8985942",
   "metadata": {},
   "outputs": [],
   "source": [
    "X, Y, Y_dates, empty = [], [], [], []\n",
    "def get_window(file_name):\n",
    "    file_path = os.path.join(input_folder, file_name)\n",
    "    df = pd.read_csv(file_path)\n",
    "    x, y, dates = [], [], []\n",
    "    n = 30\n",
    "    i = 0\n",
    "    \n",
    "    while i + 40 < len(df):\n",
    "        \n",
    "        date = df.iloc[i+40]['date']\n",
    "        dates.append(date)\n",
    "        \n",
    "        window = df.iloc[i:i+30, 1:]\n",
    "        window.set_index('date', inplace=True)\n",
    "        window = window.transpose()\n",
    "        x.append(np.array(window))\n",
    "        \n",
    "        y.append(df.iloc[i+40]['return1'])\n",
    "        \n",
    "        i += 10\n",
    "        \n",
    "    if not x or not y:\n",
    "        empty.append(df['code'][0])\n",
    "\n",
    "    x = np.stack(x)\n",
    "    y = np.stack(y)\n",
    "    y_dates = np.stack(dates)\n",
    "    X.append(x)\n",
    "    Y.append(y)\n",
    "    Y_dates.append(y_dates)"
   ]
  },
  {
   "cell_type": "code",
   "execution_count": null,
   "id": "3fb98a56",
   "metadata": {},
   "outputs": [],
   "source": [
    "with ThreadPoolExecutor() as executor:\n",
    "    list(tqdm(executor.map(get_window, csv_files), total=len(csv_files)))"
   ]
  },
  {
   "cell_type": "code",
   "execution_count": null,
   "id": "8acadfb4",
   "metadata": {},
   "outputs": [],
   "source": [
    "Y_dates = np.concatenate(Y_dates, axis=0)\n",
    "order = np.argsort(Y_dates)\n",
    "X = np.concatenate(X, axis=0)[order]\n",
    "Y = np.concatenate(Y, axis=0)[order]\n",
    "Y_dates = Y_dates[order]\n",
    "\n",
    "print('Shape of X: ', X.shape)\n",
    "print('Shape of Y: ', Y.shape)\n",
    "print('Stocks with not enough data: ', empty)"
   ]
  },
  {
   "cell_type": "code",
   "execution_count": null,
   "id": "fd8e43e1",
   "metadata": {},
   "outputs": [],
   "source": [
    "np.save('X_fe.npy', X)\n",
    "np.save('Y_fe.npy', Y)\n",
    "np.save('Y_dates.npy', Y_dates)"
   ]
  },
  {
   "cell_type": "code",
   "execution_count": null,
   "id": "2609d030",
   "metadata": {},
   "outputs": [],
   "source": []
  },
  {
   "cell_type": "code",
   "execution_count": null,
   "id": "a15d0b13",
   "metadata": {},
   "outputs": [],
   "source": []
  },
  {
   "cell_type": "code",
   "execution_count": null,
   "id": "52221d11",
   "metadata": {},
   "outputs": [],
   "source": []
  }
 ],
 "metadata": {
  "kernelspec": {
   "display_name": "Python 3 (ipykernel)",
   "language": "python",
   "name": "python3"
  },
  "language_info": {
   "codemirror_mode": {
    "name": "ipython",
    "version": 3
   },
   "file_extension": ".py",
   "mimetype": "text/x-python",
   "name": "python",
   "nbconvert_exporter": "python",
   "pygments_lexer": "ipython3",
   "version": "3.11.5"
  }
 },
 "nbformat": 4,
 "nbformat_minor": 5
}
